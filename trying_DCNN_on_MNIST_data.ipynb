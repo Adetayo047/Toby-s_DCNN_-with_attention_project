{
  "nbformat": 4,
  "nbformat_minor": 0,
  "metadata": {
    "colab": {
      "provenance": [],
      "authorship_tag": "ABX9TyPQ8YynLhR36qRj8jEPtfR4",
      "include_colab_link": true
    },
    "kernelspec": {
      "name": "python3",
      "display_name": "Python 3"
    },
    "language_info": {
      "name": "python"
    }
  },
  "cells": [
    {
      "cell_type": "markdown",
      "metadata": {
        "id": "view-in-github",
        "colab_type": "text"
      },
      "source": [
        "<a href=\"https://colab.research.google.com/github/Adetayo047/Toby-s_DCNN_-with_attention_project/blob/main/trying_DCNN_on_MNIST_data.ipynb\" target=\"_parent\"><img src=\"https://colab.research.google.com/assets/colab-badge.svg\" alt=\"Open In Colab\"/></a>"
      ]
    },
    {
      "cell_type": "code",
      "execution_count": null,
      "metadata": {
        "id": "y1NIgZZvz-Hb"
      },
      "outputs": [],
      "source": [
        "import tensorflow as tf\n",
        "import numpy as np\n",
        "import pandas as pd\n",
        "from tensorflow.keras import layers, models\n",
        "from sklearn.metrics import accuracy_score, roc_auc_score, auc, roc_curve\n",
        "from sklearn.model_selection import train_test_split\n",
        "import matplotlib.pyplot as plt"
      ]
    },
    {
      "cell_type": "code",
      "source": [
        "#load and preprocess the mnist dataset\n",
        "(train_images, train_labels), (test_images, test_labels) = tf.keras.datasets.mnist.load_data()\n",
        "train_images = train_images.reshape((60000, 28, 28, 1)).astype('float32') / 255\n",
        "test_images = test_images.reshape((10000, 28, 28, 1)).astype('float32') / 255\n",
        "\n",
        "#convert labels ti one-hot emcoding\n",
        "test_labels = tf.keras.utils.to_categorical(test_labels)\n",
        "train_labels = tf.keras.utils.to_categorical(train_labels)\n",
        "\n",
        "# define a simple CNN model with attention mechanism\n",
        "\n",
        "def cnn_with_attention_model():\n",
        "  model = models.Sequential()\n",
        "\n",
        "  #convolutional layers\n",
        "  model.add(layers.Conv2D(32, (3, 3), activation='relu', input_shape=(28, 28, 1)))\n",
        "  model.add(layers.MaxPooling2D((2, 2)))\n",
        "  model.add(layers.Conv2D(64, (3, 3), activation='relu'))\n",
        "  model.add(layers.MaxPooling2D((2, 2)))\n",
        "\n",
        "  # flatten the output for dense layers\n",
        "  model.add(layers.Flatten())\n",
        "\n",
        "  #intermediate feature\n",
        "  intermedaite_features = model.layers[-1].output\n",
        "\n",
        "  #attention mechanism\n",
        "  attention_weights = layers.Dense(1, activation='relu')(intermedaite_features)\n",
        "  attention_weights = layers.Reshape((1, 1, 1))(attention_weights)\n",
        "  attended_features = layers.Multiply()([intermedaite_features, attention_weights])\n",
        "\n",
        "\n",
        "  #dense layers\n",
        "  model.add(layers.Dense(64, activation='relu'))\n",
        "  model.add(layers.Dense(10, activation='softmax'))\n",
        "\n",
        "  return model\n",
        "\n",
        "\n",
        "#create the model\n",
        "model = cnn_with_attention_model()\n",
        "\n",
        "#compile the model\n",
        "model.compile(\n",
        "    optimizer='adam',\n",
        "    loss='categorical_crossentropy',\n",
        "    metrics=['accuracy'])\n",
        "\n",
        "#train the model\n",
        "history = model.fit(train_images, train_labels, epochs=10, batch_size=64, validation_data=(test_images, test_labels))\n",
        "\n",
        "#plot training and validation accuracy\n",
        "plt.plot(history.history['accuracy'], label = \"trainig accuracy\")\n",
        "plt.plot(history.history['val_accuracy'], label = \"validation accuracy\")\n",
        "plt.title('Model Accuracy')\n",
        "plt.ylabel('Accuracy')\n",
        "plt.xlabel('Epoch')\n",
        "plt.legend(['Train', 'Validation'], loc='upper left')\n",
        "plt.show\n",
        "\n",
        "#Evaluate the model\n",
        "test_loss, test_acc = model.evaluate(test_images, test_labels)\n",
        "print('Test accuracy:', test_acc)\n",
        "\n",
        "#Predict probabilities for ROC curve\n",
        "y_pred_prob = model.predict(test_images)\n",
        "\n",
        "#compute ROC curve and ROC area for each class\n",
        "fpr = dict()\n",
        "tpr = dict()\n",
        "roc_auc = dict()\n",
        "\n",
        "for i in range(10):\n",
        "  fpr[i], tpr[i], _ = roc_curve(test_labels[:, i], y_pred_prob[:, i])\n",
        "  roc_auc[i] = auc(fpr[i], tpr[i])\n",
        "\n",
        "#plot ROC curves\n",
        "plt.figure()\n",
        "for i in range(10):\n",
        "  plt.plot(fpr[i], tpr[i], label='Class %d (AUC = %0.2f)' % (i, roc_auc[i]))\n",
        "\n",
        "plt.plot([0, 1], [0, 1], 'k--', label = 'Random')\n",
        "plt.xlabel('False Positive Rate')\n",
        "plt.ylabel('True Positive Rate')\n",
        "plt.title('ROC curve for each of the class')\n",
        "plt.legend()\n",
        "plt.show()"
      ],
      "metadata": {
        "id": "xv9vC-kv0G48"
      },
      "execution_count": null,
      "outputs": []
    },
    {
      "cell_type": "code",
      "source": [],
      "metadata": {
        "id": "BMBiOVjw0G1p"
      },
      "execution_count": null,
      "outputs": []
    },
    {
      "cell_type": "code",
      "source": [],
      "metadata": {
        "id": "2ad6jqI00GyP"
      },
      "execution_count": null,
      "outputs": []
    },
    {
      "cell_type": "code",
      "source": [],
      "metadata": {
        "id": "P8C8idVK0Gu_"
      },
      "execution_count": null,
      "outputs": []
    },
    {
      "cell_type": "code",
      "source": [],
      "metadata": {
        "id": "U1_jVbgX0Grv"
      },
      "execution_count": null,
      "outputs": []
    },
    {
      "cell_type": "code",
      "source": [],
      "metadata": {
        "id": "hvV3Ee0G0Goo"
      },
      "execution_count": null,
      "outputs": []
    }
  ]
}